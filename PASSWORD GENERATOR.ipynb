{
 "cells": [
  {
   "cell_type": "code",
   "execution_count": 1,
   "id": "0791d286",
   "metadata": {},
   "outputs": [
    {
     "name": "stdout",
     "output_type": "stream",
     "text": [
      "Password Generator\n",
      "Enter the desired password length (minimum 8 characters): 8\n",
      "\n",
      "Your generated password is: y8ltyB_E\n",
      "\n",
      "Remember to store your password securely!\n"
     ]
    }
   ],
   "source": [
    "import random\n",
    "import string\n",
    "\n",
    "def generate_password(length):\n",
    "    # Define character sets\n",
    "    lowercase = string.ascii_lowercase\n",
    "    uppercase = string.ascii_uppercase\n",
    "    digits = string.digits\n",
    "    symbols = string.punctuation\n",
    "\n",
    "    # Combine all characters\n",
    "    all_characters = lowercase + uppercase + digits + symbols\n",
    "\n",
    "    # Ensure the password contains at least one character from each set\n",
    "    password = [\n",
    "        random.choice(lowercase),\n",
    "        random.choice(uppercase),\n",
    "        random.choice(digits),\n",
    "        random.choice(symbols)\n",
    "    ]\n",
    "\n",
    "    # Fill the rest of the password length with random characters\n",
    "    for _ in range(length - 4):\n",
    "        password.append(random.choice(all_characters))\n",
    "\n",
    "    # Shuffle the password to ensure randomness\n",
    "    random.shuffle(password)\n",
    "\n",
    "    # Convert the list of characters to a string\n",
    "    return ''.join(password)\n",
    "\n",
    "# Main program\n",
    "print(\"Password Generator\")\n",
    "\n",
    "while True:\n",
    "    try:\n",
    "        length = int(input(\"Enter the desired password length (minimum 8 characters): \"))\n",
    "        if length < 8:\n",
    "            print(\"Password length must be at least 8 characters.\")\n",
    "        else:\n",
    "            password = generate_password(length)\n",
    "            print(f\"\\nYour generated password is: {password}\")\n",
    "            break\n",
    "    except ValueError:\n",
    "        print(\"Please enter a valid number.\")\n",
    "\n",
    "print(\"\\nRemember to store your password securely!\")"
   ]
  }
 ],
 "metadata": {
  "kernelspec": {
   "display_name": "Python 3 (ipykernel)",
   "language": "python",
   "name": "python3"
  },
  "language_info": {
   "codemirror_mode": {
    "name": "ipython",
    "version": 3
   },
   "file_extension": ".py",
   "mimetype": "text/x-python",
   "name": "python",
   "nbconvert_exporter": "python",
   "pygments_lexer": "ipython3",
   "version": "3.11.4"
  }
 },
 "nbformat": 4,
 "nbformat_minor": 5
}
